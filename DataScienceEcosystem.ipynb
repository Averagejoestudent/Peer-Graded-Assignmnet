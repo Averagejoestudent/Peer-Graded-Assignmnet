{
 "cells": [
  {
   "cell_type": "markdown",
   "metadata": {
    "collapsed": true
   },
   "source": [
    "# Data Science Tools and Ecosystem"
   ]
  },
  {
   "cell_type": "markdown",
   "metadata": {},
   "source": [
    "In this notebook, Data Science Tool and Ecosystem is explained"
   ]
  },
  {
   "cell_type": "markdown",
   "metadata": {},
   "source": [
    "**Objectives**\n",
    "- Popular languges in Data science\n",
    "    - Python\n",
    "    - Sql \n",
    "    - R language\n",
    "- Data science libraries\n",
    "    - Numpy \n",
    "    - Matplotlib \n",
    "    - Tenserflow\n",
    "    - Pandas\n",
    "    \n",
    " "
   ]
  },
  {
   "cell_type": "markdown",
   "metadata": {},
   "source": [
    "Following are some Data Science Languages\n",
    "1. Python\n",
    "2. SQl\n",
    "3. R language\n"
   ]
  },
  {
   "cell_type": "markdown",
   "metadata": {},
   "source": [
    "Following are Some Data Science Libraries\n",
    "1. Numpy\n",
    "2. Pandas\n",
    "3. Scikit Learn\n",
    "4. Matplotlib\n",
    "5. Seaborn\n",
    "6. Tenserflow"
   ]
  },
  {
   "cell_type": "markdown",
   "metadata": {},
   "source": [
    "Following are some Data Science Tools\n",
    "\n",
    "| Data Science Tools |\n",
    "| --- |\n",
    "| Apache Spark |\n",
    "| MySql |\n",
    "| Hadoop HDFS |"
   ]
  },
  {
   "cell_type": "markdown",
   "metadata": {},
   "source": [
    "### Following are some examples of basic airthmetic operation in Python\n",
    "\n"
   ]
  },
  {
   "cell_type": "code",
   "execution_count": 2,
   "metadata": {},
   "outputs": [
    {
     "data": {
      "text/plain": [
       "17"
      ]
     },
     "execution_count": 2,
     "metadata": {},
     "output_type": "execute_result"
    }
   ],
   "source": [
    "# This is a simple expresion in which addition and multiplication occurs \n",
    "\n",
    "(3*4)+5"
   ]
  },
  {
   "cell_type": "code",
   "execution_count": 4,
   "metadata": {},
   "outputs": [
    {
     "name": "stdout",
     "output_type": "stream",
     "text": [
      "3.3333333333333335\n"
     ]
    }
   ],
   "source": [
    "# We will convert 200 minutes into hours by using division\n",
    "\n",
    "minutes = 200\n",
    "\n",
    "hours = minutes / 60\n",
    "\n",
    "print(hours)\n"
   ]
  },
  {
   "cell_type": "markdown",
   "metadata": {},
   "source": [
    "## Author\n",
    "Muhammad Moiz Ahmed"
   ]
  },
  {
   "cell_type": "code",
   "execution_count": null,
   "metadata": {},
   "outputs": [],
   "source": []
  }
 ],
 "metadata": {
  "kernelspec": {
   "display_name": "Python 3.10",
   "language": "python",
   "name": "python3"
  },
  "language_info": {
   "codemirror_mode": {
    "name": "ipython",
    "version": 3
   },
   "file_extension": ".py",
   "mimetype": "text/x-python",
   "name": "python",
   "nbconvert_exporter": "python",
   "pygments_lexer": "ipython3",
   "version": "3.10.9"
  }
 },
 "nbformat": 4,
 "nbformat_minor": 1
}
